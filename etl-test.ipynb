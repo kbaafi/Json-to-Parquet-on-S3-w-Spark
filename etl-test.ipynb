{
 "cells": [
  {
   "cell_type": "code",
   "execution_count": 4,
   "metadata": {},
   "outputs": [],
   "source": [
    "from pyspark.sql import SparkSession\n",
    "import configparser\n",
    "from helper import *\n",
    "import os\n",
    "import boto3\n",
    "import findspark"
   ]
  },
  {
   "cell_type": "code",
   "execution_count": 13,
   "metadata": {},
   "outputs": [],
   "source": [
    "config = configparser.ConfigParser()\n",
    "config.read('dl-local.cfg')\n",
    "\n",
    "output_path         = config.get(\"LOCAL\",\"parquet_output\")\n",
    "\n",
    "spark = create_spark_session()"
   ]
  },
  {
   "cell_type": "markdown",
   "metadata": {},
   "source": [
    "# Testing Json-to-Parquet ELT\n",
    "### Loading Artists table"
   ]
  },
  {
   "cell_type": "code",
   "execution_count": 14,
   "metadata": {},
   "outputs": [
    {
     "name": "stdout",
     "output_type": "stream",
     "text": [
      "10025\n",
      "+------------------+--------------------+------------+---------+--------+\n",
      "|         artist_id|         artist_name|    location|longitude|latitude|\n",
      "+------------------+--------------------+------------+---------+--------+\n",
      "|ARJYD111187FB3AC15|Bubba Sparxxx fea...|LaGrange, GA|     null|    null|\n",
      "|ARD63361187FB52CA6|Nikki Blonsky / Z...|            |     null|    null|\n",
      "+------------------+--------------------+------------+---------+--------+\n",
      "only showing top 2 rows\n",
      "\n"
     ]
    }
   ],
   "source": [
    "artists_df = spark.read.parquet(\"/\".join([output_path,\"artists.parquet\"]))\n",
    "print(artists_df.count())\n",
    "artists_df.show(2)"
   ]
  },
  {
   "cell_type": "markdown",
   "metadata": {},
   "source": [
    "### Loading Songs table"
   ]
  },
  {
   "cell_type": "code",
   "execution_count": 15,
   "metadata": {},
   "outputs": [
    {
     "name": "stdout",
     "output_type": "stream",
     "text": [
      "14896\n",
      "+------------------+--------------------+---------+----+------------------+\n",
      "|           song_id|               title| duration|year|         artist_id|\n",
      "+------------------+--------------------+---------+----+------------------+\n",
      "|SODUMDU12AC468A22B|We're Skrewed (Ot...| 249.5473|   0|ARHOSMU1242078130D|\n",
      "|SOTCIHX12A8C13DDD2|Finally_ as that ...|483.34322|2006|ARYOIZG1187FB41E30|\n",
      "+------------------+--------------------+---------+----+------------------+\n",
      "only showing top 2 rows\n",
      "\n"
     ]
    }
   ],
   "source": [
    "songs_df = spark.read.parquet(\"/\".join([output_path,\"songs.parquet\"]))\n",
    "print(songs_df.count())\n",
    "songs_df.show(2)"
   ]
  },
  {
   "cell_type": "markdown",
   "metadata": {},
   "source": [
    "### Loading Users table"
   ]
  },
  {
   "cell_type": "code",
   "execution_count": 9,
   "metadata": {},
   "outputs": [
    {
     "name": "stdout",
     "output_type": "stream",
     "text": [
      "104\n",
      "+-------+----------+---------+------+-----+\n",
      "|user_id|first_name|last_name|gender|level|\n",
      "+-------+----------+---------+------+-----+\n",
      "|     88|  Mohammad|Rodriguez|     M| free|\n",
      "|     68|    Jordan|Rodriguez|     F| free|\n",
      "+-------+----------+---------+------+-----+\n",
      "only showing top 2 rows\n",
      "\n"
     ]
    }
   ],
   "source": [
    "users_df = spark.read.parquet(\"/\".join([output_path,\"users.parquet\"]))\n",
    "print(users_df.count())\n",
    "users_df.show(2)"
   ]
  },
  {
   "cell_type": "markdown",
   "metadata": {},
   "source": [
    "### Loading Time table"
   ]
  },
  {
   "cell_type": "code",
   "execution_count": 10,
   "metadata": {},
   "outputs": [
    {
     "name": "stdout",
     "output_type": "stream",
     "text": [
      "6813\n",
      "+-------------------+----+---+-------+----+-----+\n",
      "|         start_time|hour|day|weekday|year|month|\n",
      "+-------------------+----+---+-------+----+-----+\n",
      "|2018-11-15 18:08:16|  18| 15|      5|2018|   11|\n",
      "|2018-11-21 10:49:45|  10| 21|      4|2018|   11|\n",
      "+-------------------+----+---+-------+----+-----+\n",
      "only showing top 2 rows\n",
      "\n"
     ]
    }
   ],
   "source": [
    "time_df = spark.read.parquet(\"/\".join([output_path,\"time.parquet\"]))\n",
    "print(time_df.count())\n",
    "time_df.show(2)"
   ]
  },
  {
   "cell_type": "markdown",
   "metadata": {},
   "source": [
    "### Loading Songplays Table"
   ]
  },
  {
   "cell_type": "code",
   "execution_count": 12,
   "metadata": {},
   "outputs": [
    {
     "name": "stdout",
     "output_type": "stream",
     "text": [
      "6820\n",
      "+-------------------+-------+-----+-------+---------+--------------------+--------------------+----+-----+\n",
      "|         start_time|user_id|level|song_id|artist_id|            location|          user_agent|year|month|\n",
      "+-------------------+-------+-----+-------+---------+--------------------+--------------------+----+-----+\n",
      "|2018-11-15 02:30:26|     26| free|   null|     null|San Jose-Sunnyval...|\"Mozilla/5.0 (X11...|2018| 2018|\n",
      "|2018-11-15 02:41:21|     26| free|   null|     null|San Jose-Sunnyval...|\"Mozilla/5.0 (X11...|2018| 2018|\n",
      "+-------------------+-------+-----+-------+---------+--------------------+--------------------+----+-----+\n",
      "only showing top 2 rows\n",
      "\n"
     ]
    }
   ],
   "source": [
    "sp_df = spark.read.parquet(\"/\".join([output_path,\"song_plays.parquet\"]))\n",
    "print(sp_df.count())\n",
    "sp_df.show(2)"
   ]
  }
 ],
 "metadata": {
  "kernelspec": {
   "display_name": "Python 3",
   "language": "python",
   "name": "python3"
  },
  "language_info": {
   "codemirror_mode": {
    "name": "ipython",
    "version": 3
   },
   "file_extension": ".py",
   "mimetype": "text/x-python",
   "name": "python",
   "nbconvert_exporter": "python",
   "pygments_lexer": "ipython3",
   "version": "3.6.5"
  }
 },
 "nbformat": 4,
 "nbformat_minor": 2
}
